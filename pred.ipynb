{
 "cells": [
  {
   "cell_type": "code",
   "execution_count": 25,
   "metadata": {},
   "outputs": [],
   "source": [
    "#importing the libraries\n",
    "import pandas as pd\n",
    "import numpy as np\n",
    "import matplotlib.pyplot as plt\n",
    "\n",
    "%matplotlib inline"
   ]
  },
  {
   "cell_type": "code",
   "execution_count": 26,
   "metadata": {},
   "outputs": [],
   "source": [
    "#importing the dataset\n",
    "skin = pd.read_csv(\"./finaldataset.csv\")"
   ]
  },
  {
   "cell_type": "code",
   "execution_count": 27,
   "metadata": {},
   "outputs": [],
   "source": [
    "#shuffling the dataset\n",
    "from sklearn.utils import shuffle\n",
    "skin=shuffle(skin,random_state=0)"
   ]
  },
  {
   "cell_type": "code",
   "execution_count": 52,
   "metadata": {},
   "outputs": [
    {
     "data": {
      "text/html": [
       "<div>\n",
       "<style scoped>\n",
       "    .dataframe tbody tr th:only-of-type {\n",
       "        vertical-align: middle;\n",
       "    }\n",
       "\n",
       "    .dataframe tbody tr th {\n",
       "        vertical-align: top;\n",
       "    }\n",
       "\n",
       "    .dataframe thead th {\n",
       "        text-align: right;\n",
       "    }\n",
       "</style>\n",
       "<table border=\"1\" class=\"dataframe\">\n",
       "  <thead>\n",
       "    <tr style=\"text-align: right;\">\n",
       "      <th></th>\n",
       "      <th>Image</th>\n",
       "      <th>S. no</th>\n",
       "      <th>area</th>\n",
       "      <th>centroid</th>\n",
       "      <th>perimeter</th>\n",
       "      <th>B</th>\n",
       "      <th>D1</th>\n",
       "      <th>D2</th>\n",
       "      <th>A1</th>\n",
       "      <th>A2</th>\n",
       "      <th>f1</th>\n",
       "      <th>f2</th>\n",
       "      <th>f3</th>\n",
       "      <th>fr1</th>\n",
       "      <th>fr2</th>\n",
       "      <th>fr3</th>\n",
       "      <th>fr4</th>\n",
       "      <th>fr5</th>\n",
       "      <th>fr6</th>\n",
       "      <th>Melanoma</th>\n",
       "    </tr>\n",
       "  </thead>\n",
       "  <tbody>\n",
       "    <tr>\n",
       "      <th>83</th>\n",
       "      <td>IMD159</td>\n",
       "      <td>83</td>\n",
       "      <td>155020</td>\n",
       "      <td>[428, 249]</td>\n",
       "      <td>1425</td>\n",
       "      <td>1.04</td>\n",
       "      <td>439</td>\n",
       "      <td>293</td>\n",
       "      <td>2.44</td>\n",
       "      <td>2.00</td>\n",
       "      <td>0.293460</td>\n",
       "      <td>0.389358</td>\n",
       "      <td>0.317181</td>\n",
       "      <td>1.978568</td>\n",
       "      <td>2.409542</td>\n",
       "      <td>7.820871</td>\n",
       "      <td>29.369579</td>\n",
       "      <td>31.376673</td>\n",
       "      <td>27.444730</td>\n",
       "      <td>0</td>\n",
       "    </tr>\n",
       "    <tr>\n",
       "      <th>12</th>\n",
       "      <td>IMD018</td>\n",
       "      <td>12</td>\n",
       "      <td>100797</td>\n",
       "      <td>[373, 266]</td>\n",
       "      <td>883</td>\n",
       "      <td>0.62</td>\n",
       "      <td>310</td>\n",
       "      <td>184</td>\n",
       "      <td>6.20</td>\n",
       "      <td>6.02</td>\n",
       "      <td>0.291768</td>\n",
       "      <td>0.390261</td>\n",
       "      <td>0.317971</td>\n",
       "      <td>0.686760</td>\n",
       "      <td>0.860795</td>\n",
       "      <td>3.269445</td>\n",
       "      <td>-16.716267</td>\n",
       "      <td>-5.632196</td>\n",
       "      <td>18.349184</td>\n",
       "      <td>0</td>\n",
       "    </tr>\n",
       "    <tr>\n",
       "      <th>33</th>\n",
       "      <td>IMD045</td>\n",
       "      <td>33</td>\n",
       "      <td>220568</td>\n",
       "      <td>[374, 184]</td>\n",
       "      <td>5078</td>\n",
       "      <td>9.31</td>\n",
       "      <td>587</td>\n",
       "      <td>587</td>\n",
       "      <td>1.49</td>\n",
       "      <td>0.89</td>\n",
       "      <td>0.280297</td>\n",
       "      <td>0.394679</td>\n",
       "      <td>0.325025</td>\n",
       "      <td>1.987780</td>\n",
       "      <td>2.107871</td>\n",
       "      <td>2.797556</td>\n",
       "      <td>34.055686</td>\n",
       "      <td>28.042687</td>\n",
       "      <td>19.301479</td>\n",
       "      <td>0</td>\n",
       "    </tr>\n",
       "    <tr>\n",
       "      <th>113</th>\n",
       "      <td>IMD242</td>\n",
       "      <td>113</td>\n",
       "      <td>297255</td>\n",
       "      <td>[384, 326]</td>\n",
       "      <td>7014</td>\n",
       "      <td>13.17</td>\n",
       "      <td>624</td>\n",
       "      <td>604</td>\n",
       "      <td>1.54</td>\n",
       "      <td>1.35</td>\n",
       "      <td>0.314488</td>\n",
       "      <td>0.396047</td>\n",
       "      <td>0.289465</td>\n",
       "      <td>2.752296</td>\n",
       "      <td>2.757996</td>\n",
       "      <td>4.113484</td>\n",
       "      <td>52.847930</td>\n",
       "      <td>58.311377</td>\n",
       "      <td>46.623395</td>\n",
       "      <td>1</td>\n",
       "    </tr>\n",
       "    <tr>\n",
       "      <th>171</th>\n",
       "      <td>IMD406</td>\n",
       "      <td>171</td>\n",
       "      <td>147434</td>\n",
       "      <td>[440, 191]</td>\n",
       "      <td>5867</td>\n",
       "      <td>18.58</td>\n",
       "      <td>685</td>\n",
       "      <td>685</td>\n",
       "      <td>3.01</td>\n",
       "      <td>2.83</td>\n",
       "      <td>0.269283</td>\n",
       "      <td>0.400538</td>\n",
       "      <td>0.330179</td>\n",
       "      <td>0.813346</td>\n",
       "      <td>1.043672</td>\n",
       "      <td>1.705733</td>\n",
       "      <td>-12.139108</td>\n",
       "      <td>1.862071</td>\n",
       "      <td>13.399609</td>\n",
       "      <td>1</td>\n",
       "    </tr>\n",
       "  </tbody>\n",
       "</table>\n",
       "</div>"
      ],
      "text/plain": [
       "      Image  S. no    area    centroid  perimeter      B   D1   D2    A1  \\\n",
       "83   IMD159     83  155020  [428, 249]       1425   1.04  439  293  2.44   \n",
       "12   IMD018     12  100797  [373, 266]        883   0.62  310  184  6.20   \n",
       "33   IMD045     33  220568  [374, 184]       5078   9.31  587  587  1.49   \n",
       "113  IMD242    113  297255  [384, 326]       7014  13.17  624  604  1.54   \n",
       "171  IMD406    171  147434  [440, 191]       5867  18.58  685  685  3.01   \n",
       "\n",
       "       A2        f1        f2        f3       fr1       fr2       fr3  \\\n",
       "83   2.00  0.293460  0.389358  0.317181  1.978568  2.409542  7.820871   \n",
       "12   6.02  0.291768  0.390261  0.317971  0.686760  0.860795  3.269445   \n",
       "33   0.89  0.280297  0.394679  0.325025  1.987780  2.107871  2.797556   \n",
       "113  1.35  0.314488  0.396047  0.289465  2.752296  2.757996  4.113484   \n",
       "171  2.83  0.269283  0.400538  0.330179  0.813346  1.043672  1.705733   \n",
       "\n",
       "           fr4        fr5        fr6  Melanoma  \n",
       "83   29.369579  31.376673  27.444730         0  \n",
       "12  -16.716267  -5.632196  18.349184         0  \n",
       "33   34.055686  28.042687  19.301479         0  \n",
       "113  52.847930  58.311377  46.623395         1  \n",
       "171 -12.139108   1.862071  13.399609         1  "
      ]
     },
     "execution_count": 52,
     "metadata": {},
     "output_type": "execute_result"
    }
   ],
   "source": [
    "skin.head()"
   ]
  },
  {
   "cell_type": "code",
   "execution_count": 28,
   "metadata": {},
   "outputs": [],
   "source": [
    "#dropping predictions, image names and centroid \n",
    "# assigning X to features\n",
    "X = skin.drop(['Image','S. no','Melanoma','centroid'],axis=1)\n",
    "#assigning y to predictions\n",
    "y =skin['Melanoma']"
   ]
  },
  {
   "cell_type": "code",
   "execution_count": 29,
   "metadata": {},
   "outputs": [],
   "source": [
    "#splitting into training and test set\n",
    "from sklearn.model_selection import train_test_split\n",
    "X_train, X_test, y_train, y_test = train_test_split(X, y, test_size = 0.30)"
   ]
  },
  {
   "cell_type": "code",
   "execution_count": 48,
   "metadata": {},
   "outputs": [],
   "source": [
    "#importing seaborn for plots\n",
    "import seaborn as sns"
   ]
  },
  {
   "cell_type": "code",
   "execution_count": 63,
   "metadata": {},
   "outputs": [],
   "source": [
    "#showing few features with their variations with images"
   ]
  },
  {
   "cell_type": "code",
   "execution_count": 50,
   "metadata": {},
   "outputs": [
    {
     "data": {
      "text/plain": [
       "<matplotlib.axes._subplots.AxesSubplot at 0x23cf14c7fd0>"
      ]
     },
     "execution_count": 50,
     "metadata": {},
     "output_type": "execute_result"
    },
    {
     "data": {
      "image/png": "[encoded data removed]",
      "text/plain": [
       "<Figure size 432x288 with 1 Axes>"
      ]
     },
     "metadata": {
      "needs_background": "light"
     },
     "output_type": "display_data"
    }
   ],
   "source": [
    "#B = (contour perimeter * contour perimeter)/4 * pi * contour area\n",
    "sns.countplot(x = \"B\", data = skin)"
   ]
  },
  {
   "cell_type": "code",
   "execution_count": 59,
   "metadata": {},
   "outputs": [
    {
     "data": {
      "text/plain": [
       "<matplotlib.axes._subplots.AxesSubplot at 0x23cf40587b8>"
      ]
     },
     "execution_count": 59,
     "metadata": {},
     "output_type": "execute_result"
    },
    {
     "data": {
      "image/png": "[encoded data removed]",
      "text/plain": [
       "<Figure size 432x288 with 1 Axes>"
      ]
     },
     "metadata": {
      "needs_background": "light"
     },
     "output_type": "display_data"
    }
   ],
   "source": [
    "#effect of B on images of skin\n",
    "sns.regplot(x = 'B', y = 'Melanoma', data = skin)"
   ]
  },
  {
   "cell_type": "code",
   "execution_count": 60,
   "metadata": {},
   "outputs": [
    {
     "data": {
      "text/plain": [
       "<matplotlib.axes._subplots.AxesSubplot at 0x23cf41037b8>"
      ]
     },
     "execution_count": 60,
     "metadata": {},
     "output_type": "execute_result"
    },
    {
     "data": {
      "image/png": "[encoded data removed]",
      "text/plain": [
       "<Figure size 432x288 with 1 Axes>"
      ]
     },
     "metadata": {
      "needs_background": "light"
     },
     "output_type": "display_data"
    }
   ],
   "source": [
    "#D1 = max([nW, nH]) \n",
    "sns.countplot(x = \"D1\", data = skin)"
   ]
  },
  {
   "cell_type": "code",
   "execution_count": 62,
   "metadata": {},
   "outputs": [
    {
     "data": {
      "text/plain": [
       "<matplotlib.axes._subplots.AxesSubplot at 0x23cf443d4a8>"
      ]
     },
     "execution_count": 62,
     "metadata": {},
     "output_type": "execute_result"
    },
    {
     "data": {
      "image/png": "[encoded data removed]",
      "text/plain": [
       "<Figure size 432x288 with 1 Axes>"
      ]
     },
     "metadata": {
      "needs_background": "light"
     },
     "output_type": "display_data"
    }
   ],
   "source": [
    "#effect of D on images of skin\n",
    "sns.regplot(x = 'D1', y = 'Melanoma', data = skin)"
   ]
  },
  {
   "cell_type": "code",
   "execution_count": 65,
   "metadata": {},
   "outputs": [
    {
     "data": {
      "text/plain": [
       "<matplotlib.axes._subplots.AxesSubplot at 0x23cf45e3160>"
      ]
     },
     "execution_count": 65,
     "metadata": {},
     "output_type": "execute_result"
    },
    {
     "data": {
      "image/png": "[encoded data removed]",
      "text/plain": [
       "<Figure size 432x288 with 1 Axes>"
      ]
     },
     "metadata": {
      "needs_background": "light"
     },
     "output_type": "display_data"
    }
   ],
   "source": [
    "#A1 = float(h_asym) / contour_area\n",
    "sns.countplot(x = \"D1\", data = skin)"
   ]
  },
  {
   "cell_type": "code",
   "execution_count": 66,
   "metadata": {},
   "outputs": [
    {
     "data": {
      "text/plain": [
       "<matplotlib.axes._subplots.AxesSubplot at 0x23cf58a0240>"
      ]
     },
     "execution_count": 66,
     "metadata": {},
     "output_type": "execute_result"
    },
    {
     "data": {
      "image/png": "[encoded data removed]",
      "text/plain": [
       "<Figure size 432x288 with 1 Axes>"
      ]
     },
     "metadata": {
      "needs_background": "light"
     },
     "output_type": "display_data"
    }
   ],
   "source": [
    "#effect of A1 on images of skin\n",
    "sns.regplot(x = 'A1', y = 'Melanoma', data = skin)"
   ]
  },
  {
   "cell_type": "code",
   "execution_count": 30,
   "metadata": {},
   "outputs": [],
   "source": [
    "#for balancing the skewed dataset\n",
    "from imblearn.over_sampling import RandomOverSampler"
   ]
  },
  {
   "cell_type": "code",
   "execution_count": 31,
   "metadata": {},
   "outputs": [],
   "source": [
    "#creating object\n",
    "ros = RandomOverSampler(random_state=0)"
   ]
  },
  {
   "cell_type": "code",
   "execution_count": 32,
   "metadata": {},
   "outputs": [],
   "source": [
    "#changed X and y value\n",
    "X_resampled, y_resampled = ros.fit_resample(X, y)"
   ]
  },
  {
   "cell_type": "code",
   "execution_count": 33,
   "metadata": {},
   "outputs": [],
   "source": [
    "#feature scaling\n",
    "from sklearn.preprocessing import StandardScaler\n",
    "sc = StandardScaler()\n",
    "X_resampled = sc.fit_transform(X_resampled)\n",
    "X_test = sc.transform(X_test)"
   ]
  },
  {
   "cell_type": "code",
   "execution_count": 34,
   "metadata": {},
   "outputs": [
    {
     "name": "stdout",
     "output_type": "stream",
     "text": [
      "[(0, 157), (1, 157)]\n"
     ]
    }
   ],
   "source": [
    "#counting the classes (0 and 1)\n",
    "from collections import Counter\n",
    "print(sorted(Counter(y_resampled).items()))"
   ]
  },
  {
   "cell_type": "code",
   "execution_count": 35,
   "metadata": {},
   "outputs": [
    {
     "data": {
      "text/plain": [
       "SVC(C=1.0, cache_size=200, class_weight=None, coef0=0.0,\n",
       "    decision_function_shape='ovr', degree=3, gamma='auto_deprecated',\n",
       "    kernel='rbf', max_iter=-1, probability=False, random_state=0,\n",
       "    shrinking=True, tol=0.001, verbose=False)"
      ]
     },
     "execution_count": 35,
     "metadata": {},
     "output_type": "execute_result"
    }
   ],
   "source": [
    "#importing the svc classifier\n",
    "#Using rbf classifier\n",
    "from sklearn.svm import SVC\n",
    "svclassifier = SVC(kernel='rbf',random_state = 0)\n",
    "svclassifier.fit(X_resampled, y_resampled)"
   ]
  },
  {
   "cell_type": "code",
   "execution_count": 36,
   "metadata": {},
   "outputs": [],
   "source": [
    "#predicting the class(0 or 1) for X_test\n",
    "y_pred = svclassifier.predict(X_test)"
   ]
  },
  {
   "cell_type": "code",
   "execution_count": 37,
   "metadata": {},
   "outputs": [],
   "source": [
    "#using confusion matrix to find\n",
    "#True positive, True negative, False positive, False negative\n",
    "from sklearn.metrics import confusion_matrix\n",
    "cm = confusion_matrix(y_test, y_pred)"
   ]
  },
  {
   "cell_type": "code",
   "execution_count": 38,
   "metadata": {},
   "outputs": [
    {
     "data": {
      "text/plain": [
       "array([[35,  9],\n",
       "       [ 5, 10]], dtype=int64)"
      ]
     },
     "execution_count": 38,
     "metadata": {},
     "output_type": "execute_result"
    }
   ],
   "source": [
    "cm"
   ]
  },
  {
   "cell_type": "code",
   "execution_count": 39,
   "metadata": {},
   "outputs": [
    {
     "data": {
      "text/plain": [
       "array([0, 0, 0, 1, 1, 0, 0, 0, 0, 0, 0, 0, 0, 0, 1, 1, 0, 0, 0, 0, 0, 1,\n",
       "       0, 1, 0, 0, 1, 0, 1, 0, 0, 0, 0, 0, 0, 0, 1, 0, 0, 0, 0, 0, 0, 0,\n",
       "       0, 0, 1, 0, 0, 0, 1, 0, 0, 1, 1, 0, 0, 0, 0, 0, 1, 0, 0, 0, 1, 1,\n",
       "       0, 0, 0, 0, 1, 0, 1, 0, 0, 0, 0, 0, 0, 0, 0, 0, 0, 0, 1, 1, 0, 0,\n",
       "       0, 0, 1, 0, 0, 0, 0, 0, 1, 1, 0, 0, 0, 0, 0, 0, 1, 0, 1, 1, 0, 0,\n",
       "       0, 0, 1, 1, 0, 0, 0, 0, 0, 0, 0, 0, 0, 0, 0, 0, 0, 0, 0, 1, 0, 0,\n",
       "       0, 0, 1, 0, 0, 0, 0, 0, 0, 0, 0, 0, 1, 0, 1, 1, 0, 0, 0, 0, 0, 0,\n",
       "       0, 0, 0, 0, 0, 0, 0, 0, 0, 0, 1, 0, 0, 0, 0, 0, 0, 0, 0, 0, 0, 0,\n",
       "       0, 0, 1, 1, 0, 1, 0, 0, 0, 0, 0, 0, 0, 0, 0, 0, 0, 0, 1, 1, 1, 1,\n",
       "       1, 1, 1, 1, 1, 1, 1, 1, 1, 1, 1, 1, 1, 1, 1, 1, 1, 1, 1, 1, 1, 1,\n",
       "       1, 1, 1, 1, 1, 1, 1, 1, 1, 1, 1, 1, 1, 1, 1, 1, 1, 1, 1, 1, 1, 1,\n",
       "       1, 1, 1, 1, 1, 1, 1, 1, 1, 1, 1, 1, 1, 1, 1, 1, 1, 1, 1, 1, 1, 1,\n",
       "       1, 1, 1, 1, 1, 1, 1, 1, 1, 1, 1, 1, 1, 1, 1, 1, 1, 1, 1, 1, 1, 1,\n",
       "       1, 1, 1, 1, 1, 1, 1, 1, 1, 1, 1, 1, 1, 1, 1, 1, 1, 1, 1, 1, 1, 1,\n",
       "       1, 1, 1, 1, 1, 1], dtype=int64)"
      ]
     },
     "execution_count": 39,
     "metadata": {},
     "output_type": "execute_result"
    }
   ],
   "source": [
    "#resampling \n",
    "y_resampled"
   ]
  },
  {
   "cell_type": "code",
   "execution_count": 23,
   "metadata": {},
   "outputs": [
    {
     "data": {
      "text/plain": [
       "array([[-0.55500813, -0.67341544, -0.63545585, ..., -0.43507018,\n",
       "        -0.31749702, -0.03132065],\n",
       "       [-0.06058398,  1.83623104,  1.79428058, ...,  0.08810779,\n",
       "         0.09996424,  0.38127608],\n",
       "       [-0.74180921, -0.83801574, -0.69471771, ..., -0.11588442,\n",
       "        -0.05784574,  0.34365295],\n",
       "       ...,\n",
       "       [-0.6235117 , -0.41330633, -0.44987264, ..., -0.24452219,\n",
       "        -0.27880429,  0.04613539],\n",
       "       [-0.11995184, -0.63023327, -0.6728844 , ...,  0.31764121,\n",
       "         0.30670808,  0.27630672],\n",
       "       [-0.69574006,  0.92026088,  1.22037621, ..., -0.85181973,\n",
       "        -0.90690607, -0.71175656]])"
      ]
     },
     "execution_count": 23,
     "metadata": {},
     "output_type": "execute_result"
    }
   ],
   "source": [
    "#X after applying feature scaling\n",
    "X_resampled"
   ]
  },
  {
   "cell_type": "code",
   "execution_count": 43,
   "metadata": {},
   "outputs": [
    {
     "name": "stdout",
     "output_type": "stream",
     "text": [
      "[[35  9]\n",
      " [ 5 10]]\n",
      "              precision    recall  f1-score   support\n",
      "\n",
      "           0       0.88      0.80      0.83        44\n",
      "           1       0.53      0.67      0.59        15\n",
      "\n",
      "    accuracy                           0.76        59\n",
      "   macro avg       0.70      0.73      0.71        59\n",
      "weighted avg       0.79      0.76      0.77        59\n",
      "\n",
      "0.7627118644067796\n"
     ]
    }
   ],
   "source": [
    "#getting F1 scores, accuracy, and confusion matrix to see how good model works..\n",
    "from sklearn.metrics import classification_report, confusion_matrix,accuracy_score\n",
    "print(confusion_matrix(y_test,y_pred))\n",
    "print(classification_report(y_test,y_pred))\n",
    "print(accuracy_score(y_test,y_pred))"
   ]
  },
  {
   "cell_type": "code",
   "execution_count": null,
   "metadata": {},
   "outputs": [],
   "source": []
  }
 ],
 "metadata": {
  "kernelspec": {
   "display_name": "Python 3",
   "language": "python",
   "name": "python3"
  },
  "language_info": {
   "codemirror_mode": {
    "name": "ipython",
    "version": 3
   },
   "file_extension": ".py",
   "mimetype": "text/x-python",
   "name": "python",
   "nbconvert_exporter": "python",
   "pygments_lexer": "ipython3",
   "version": "3.7.4"
  }
 },
 "nbformat": 4,
 "nbformat_minor": 2
}
